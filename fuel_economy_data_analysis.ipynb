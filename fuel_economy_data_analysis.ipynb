{
 "cells": [
  {
   "cell_type": "code",
   "execution_count": 2,
   "metadata": {},
   "outputs": [],
   "source": [
    "import pandas as pd\n",
    "import numpy as np\n",
    "import matplotlib.pyplot as plt\n",
    "plt.style.use('ggplot')\n",
    "%matplotlib inline\n",
    "plt.rcParams[\"figure.figsize\"] = (20,15)"
   ]
  },
  {
   "cell_type": "code",
   "execution_count": 3,
   "metadata": {},
   "outputs": [
    {
     "name": "stderr",
     "output_type": "stream",
     "text": [
      "c:\\users\\samarna\\appdata\\local\\programs\\python\\python36\\lib\\site-packages\\IPython\\core\\interactiveshell.py:2785: DtypeWarning: Columns (71,73,74,76) have mixed types. Specify dtype option on import or set low_memory=False.\n",
      "  interactivity=interactivity, compiler=compiler, result=result)\n"
     ]
    }
   ],
   "source": [
    "vehicles = pd.read_csv(\"vehicles.csv\")"
   ]
  },
  {
   "cell_type": "code",
   "execution_count": 4,
   "metadata": {},
   "outputs": [
    {
     "data": {
      "text/html": [
       "<div>\n",
       "<style scoped>\n",
       "    .dataframe tbody tr th:only-of-type {\n",
       "        vertical-align: middle;\n",
       "    }\n",
       "\n",
       "    .dataframe tbody tr th {\n",
       "        vertical-align: top;\n",
       "    }\n",
       "\n",
       "    .dataframe thead th {\n",
       "        text-align: right;\n",
       "    }\n",
       "</style>\n",
       "<table border=\"1\" class=\"dataframe\">\n",
       "  <thead>\n",
       "    <tr style=\"text-align: right;\">\n",
       "      <th></th>\n",
       "      <th>barrels08</th>\n",
       "      <th>barrelsA08</th>\n",
       "      <th>charge120</th>\n",
       "      <th>charge240</th>\n",
       "      <th>city08</th>\n",
       "      <th>city08U</th>\n",
       "      <th>cityA08</th>\n",
       "      <th>cityA08U</th>\n",
       "      <th>cityCD</th>\n",
       "      <th>cityE</th>\n",
       "      <th>...</th>\n",
       "      <th>mfrCode</th>\n",
       "      <th>c240Dscr</th>\n",
       "      <th>charge240b</th>\n",
       "      <th>c240bDscr</th>\n",
       "      <th>createdOn</th>\n",
       "      <th>modifiedOn</th>\n",
       "      <th>startStop</th>\n",
       "      <th>phevCity</th>\n",
       "      <th>phevHwy</th>\n",
       "      <th>phevComb</th>\n",
       "    </tr>\n",
       "  </thead>\n",
       "  <tbody>\n",
       "    <tr>\n",
       "      <th>0</th>\n",
       "      <td>15.695714</td>\n",
       "      <td>0.0</td>\n",
       "      <td>0.0</td>\n",
       "      <td>0.0</td>\n",
       "      <td>19</td>\n",
       "      <td>0.0</td>\n",
       "      <td>0</td>\n",
       "      <td>0.0</td>\n",
       "      <td>0.0</td>\n",
       "      <td>0.0</td>\n",
       "      <td>...</td>\n",
       "      <td>NaN</td>\n",
       "      <td>NaN</td>\n",
       "      <td>0.0</td>\n",
       "      <td>NaN</td>\n",
       "      <td>Tue Jan 01 00:00:00 EST 2013</td>\n",
       "      <td>Tue Jan 01 00:00:00 EST 2013</td>\n",
       "      <td>NaN</td>\n",
       "      <td>0</td>\n",
       "      <td>0</td>\n",
       "      <td>0</td>\n",
       "    </tr>\n",
       "    <tr>\n",
       "      <th>1</th>\n",
       "      <td>29.964545</td>\n",
       "      <td>0.0</td>\n",
       "      <td>0.0</td>\n",
       "      <td>0.0</td>\n",
       "      <td>9</td>\n",
       "      <td>0.0</td>\n",
       "      <td>0</td>\n",
       "      <td>0.0</td>\n",
       "      <td>0.0</td>\n",
       "      <td>0.0</td>\n",
       "      <td>...</td>\n",
       "      <td>NaN</td>\n",
       "      <td>NaN</td>\n",
       "      <td>0.0</td>\n",
       "      <td>NaN</td>\n",
       "      <td>Tue Jan 01 00:00:00 EST 2013</td>\n",
       "      <td>Tue Jan 01 00:00:00 EST 2013</td>\n",
       "      <td>NaN</td>\n",
       "      <td>0</td>\n",
       "      <td>0</td>\n",
       "      <td>0</td>\n",
       "    </tr>\n",
       "    <tr>\n",
       "      <th>2</th>\n",
       "      <td>12.207778</td>\n",
       "      <td>0.0</td>\n",
       "      <td>0.0</td>\n",
       "      <td>0.0</td>\n",
       "      <td>23</td>\n",
       "      <td>0.0</td>\n",
       "      <td>0</td>\n",
       "      <td>0.0</td>\n",
       "      <td>0.0</td>\n",
       "      <td>0.0</td>\n",
       "      <td>...</td>\n",
       "      <td>NaN</td>\n",
       "      <td>NaN</td>\n",
       "      <td>0.0</td>\n",
       "      <td>NaN</td>\n",
       "      <td>Tue Jan 01 00:00:00 EST 2013</td>\n",
       "      <td>Tue Jan 01 00:00:00 EST 2013</td>\n",
       "      <td>NaN</td>\n",
       "      <td>0</td>\n",
       "      <td>0</td>\n",
       "      <td>0</td>\n",
       "    </tr>\n",
       "    <tr>\n",
       "      <th>3</th>\n",
       "      <td>29.964545</td>\n",
       "      <td>0.0</td>\n",
       "      <td>0.0</td>\n",
       "      <td>0.0</td>\n",
       "      <td>10</td>\n",
       "      <td>0.0</td>\n",
       "      <td>0</td>\n",
       "      <td>0.0</td>\n",
       "      <td>0.0</td>\n",
       "      <td>0.0</td>\n",
       "      <td>...</td>\n",
       "      <td>NaN</td>\n",
       "      <td>NaN</td>\n",
       "      <td>0.0</td>\n",
       "      <td>NaN</td>\n",
       "      <td>Tue Jan 01 00:00:00 EST 2013</td>\n",
       "      <td>Tue Jan 01 00:00:00 EST 2013</td>\n",
       "      <td>NaN</td>\n",
       "      <td>0</td>\n",
       "      <td>0</td>\n",
       "      <td>0</td>\n",
       "    </tr>\n",
       "    <tr>\n",
       "      <th>4</th>\n",
       "      <td>17.347895</td>\n",
       "      <td>0.0</td>\n",
       "      <td>0.0</td>\n",
       "      <td>0.0</td>\n",
       "      <td>17</td>\n",
       "      <td>0.0</td>\n",
       "      <td>0</td>\n",
       "      <td>0.0</td>\n",
       "      <td>0.0</td>\n",
       "      <td>0.0</td>\n",
       "      <td>...</td>\n",
       "      <td>NaN</td>\n",
       "      <td>NaN</td>\n",
       "      <td>0.0</td>\n",
       "      <td>NaN</td>\n",
       "      <td>Tue Jan 01 00:00:00 EST 2013</td>\n",
       "      <td>Tue Jan 01 00:00:00 EST 2013</td>\n",
       "      <td>NaN</td>\n",
       "      <td>0</td>\n",
       "      <td>0</td>\n",
       "      <td>0</td>\n",
       "    </tr>\n",
       "  </tbody>\n",
       "</table>\n",
       "<p>5 rows × 83 columns</p>\n",
       "</div>"
      ],
      "text/plain": [
       "   barrels08  barrelsA08  charge120  charge240  city08  city08U  cityA08  \\\n",
       "0  15.695714         0.0        0.0        0.0      19      0.0        0   \n",
       "1  29.964545         0.0        0.0        0.0       9      0.0        0   \n",
       "2  12.207778         0.0        0.0        0.0      23      0.0        0   \n",
       "3  29.964545         0.0        0.0        0.0      10      0.0        0   \n",
       "4  17.347895         0.0        0.0        0.0      17      0.0        0   \n",
       "\n",
       "   cityA08U  cityCD  cityE    ...     mfrCode  c240Dscr  charge240b  \\\n",
       "0       0.0     0.0    0.0    ...         NaN       NaN         0.0   \n",
       "1       0.0     0.0    0.0    ...         NaN       NaN         0.0   \n",
       "2       0.0     0.0    0.0    ...         NaN       NaN         0.0   \n",
       "3       0.0     0.0    0.0    ...         NaN       NaN         0.0   \n",
       "4       0.0     0.0    0.0    ...         NaN       NaN         0.0   \n",
       "\n",
       "   c240bDscr                     createdOn                    modifiedOn  \\\n",
       "0        NaN  Tue Jan 01 00:00:00 EST 2013  Tue Jan 01 00:00:00 EST 2013   \n",
       "1        NaN  Tue Jan 01 00:00:00 EST 2013  Tue Jan 01 00:00:00 EST 2013   \n",
       "2        NaN  Tue Jan 01 00:00:00 EST 2013  Tue Jan 01 00:00:00 EST 2013   \n",
       "3        NaN  Tue Jan 01 00:00:00 EST 2013  Tue Jan 01 00:00:00 EST 2013   \n",
       "4        NaN  Tue Jan 01 00:00:00 EST 2013  Tue Jan 01 00:00:00 EST 2013   \n",
       "\n",
       "   startStop  phevCity  phevHwy  phevComb  \n",
       "0        NaN         0        0         0  \n",
       "1        NaN         0        0         0  \n",
       "2        NaN         0        0         0  \n",
       "3        NaN         0        0         0  \n",
       "4        NaN         0        0         0  \n",
       "\n",
       "[5 rows x 83 columns]"
      ]
     },
     "execution_count": 4,
     "metadata": {},
     "output_type": "execute_result"
    }
   ],
   "source": [
    "vehicles.head()"
   ]
  },
  {
   "cell_type": "code",
   "execution_count": 5,
   "metadata": {},
   "outputs": [
    {
     "data": {
      "text/plain": [
       "(39755, 83)"
      ]
     },
     "execution_count": 5,
     "metadata": {},
     "output_type": "execute_result"
    }
   ],
   "source": [
    "vehicles.shape"
   ]
  },
  {
   "cell_type": "code",
   "execution_count": 6,
   "metadata": {},
   "outputs": [],
   "source": [
    "column_names = vehicles.columns.values"
   ]
  },
  {
   "cell_type": "code",
   "execution_count": 7,
   "metadata": {},
   "outputs": [
    {
     "name": "stdout",
     "output_type": "stream",
     "text": [
      "['barrels08' 'barrelsA08' 'charge120' 'charge240' 'city08' 'city08U'\n",
      " 'cityA08' 'cityA08U' 'cityCD' 'cityE' 'cityUF' 'co2' 'co2A'\n",
      " 'co2TailpipeAGpm' 'co2TailpipeGpm' 'comb08' 'comb08U' 'combA08'\n",
      " 'combA08U' 'combE' 'combinedCD' 'combinedUF' 'cylinders' 'displ' 'drive'\n",
      " 'engId' 'eng_dscr' 'feScore' 'fuelCost08' 'fuelCostA08' 'fuelType'\n",
      " 'fuelType1' 'ghgScore' 'ghgScoreA' 'highway08' 'highway08U' 'highwayA08'\n",
      " 'highwayA08U' 'highwayCD' 'highwayE' 'highwayUF' 'hlv' 'hpv' 'id' 'lv2'\n",
      " 'lv4' 'make' 'model' 'mpgData' 'phevBlended' 'pv2' 'pv4' 'range'\n",
      " 'rangeCity' 'rangeCityA' 'rangeHwy' 'rangeHwyA' 'trany' 'UCity' 'UCityA'\n",
      " 'UHighway' 'UHighwayA' 'VClass' 'year' 'youSaveSpend' 'guzzler'\n",
      " 'trans_dscr' 'tCharger' 'sCharger' 'atvType' 'fuelType2' 'rangeA'\n",
      " 'evMotor' 'mfrCode' 'c240Dscr' 'charge240b' 'c240bDscr' 'createdOn'\n",
      " 'modifiedOn' 'startStop' 'phevCity' 'phevHwy' 'phevComb']\n"
     ]
    }
   ],
   "source": [
    "print(column_names)"
   ]
  },
  {
   "cell_type": "code",
   "execution_count": 8,
   "metadata": {},
   "outputs": [
    {
     "data": {
      "text/plain": [
       "array(['cylinders', 'displ', 'fuelType2', 'rangeA', 'evMotor', 'mfrCode'],\n",
       "      dtype=object)"
      ]
     },
     "execution_count": 8,
     "metadata": {},
     "output_type": "execute_result"
    }
   ],
   "source": [
    "column_names[[22, 23, 70, 71, 72, 73]]"
   ]
  },
  {
   "cell_type": "code",
   "execution_count": 9,
   "metadata": {},
   "outputs": [
    {
     "name": "stdout",
     "output_type": "stream",
     "text": [
      "There are a total of 39755 rows of data.\n"
     ]
    }
   ],
   "source": [
    "print(\"There are a total of {0} rows of data.\".format(len(vehicles)))"
   ]
  },
  {
   "cell_type": "code",
   "execution_count": 10,
   "metadata": {},
   "outputs": [
    {
     "name": "stdout",
     "output_type": "stream",
     "text": [
      "There are a total of 83 columns in the dataset.\n"
     ]
    }
   ],
   "source": [
    "print(\"There are a total of {0} columns in the dataset.\".format(len(vehicles.columns)))"
   ]
  },
  {
   "cell_type": "code",
   "execution_count": 11,
   "metadata": {},
   "outputs": [
    {
     "name": "stdout",
     "output_type": "stream",
     "text": [
      "There are data available for 36 unique years between 1984 and 2019.\n"
     ]
    }
   ],
   "source": [
    "print(\"There are data available for {0} unique years between {1} and {2}.\".format(len(pd.unique(vehicles.year)), \n",
    "                                                                                  min(vehicles[\"year\"]),\n",
    "                                                                                  max(vehicles[\"year\"])))"
   ]
  },
  {
   "cell_type": "code",
   "execution_count": 12,
   "metadata": {},
   "outputs": [
    {
     "name": "stdout",
     "output_type": "stream",
     "text": [
      "The top fuel types in use are as follows:\n",
      "Regular                        25852\n",
      "Premium                        10931\n",
      "Gasoline or E85                 1274\n",
      "Diesel                          1123\n",
      "Electricity                      165\n",
      "Premium or E85                   125\n",
      "Midgrade                          96\n",
      "CNG                               60\n",
      "Premium and Electricity           43\n",
      "Regular Gas and Electricity       29\n",
      "Premium Gas or Electricity        26\n",
      "Gasoline or natural gas           20\n",
      "Gasoline or propane                8\n",
      "Regular Gas or Electricity         3\n",
      "Name: fuelType, dtype: int64\n"
     ]
    }
   ],
   "source": [
    "print(\"The top fuel types in use are as follows:\\n{0}\".format(pd.value_counts(vehicles[\"fuelType\"])))"
   ]
  },
  {
   "cell_type": "code",
   "execution_count": 13,
   "metadata": {},
   "outputs": [
    {
     "name": "stdout",
     "output_type": "stream",
     "text": [
      "The top transmission types in use are as follows:\n",
      "Automatic 4-spd                     11045\n",
      "Manual 5-spd                         8345\n",
      "Automatic 3-spd                      3151\n",
      "Automatic (S6)                       2942\n",
      "Manual 6-spd                         2646\n",
      "Automatic 5-spd                      2198\n",
      "Automatic 6-spd                      1538\n",
      "Manual 4-spd                         1483\n",
      "Automatic (S8)                       1352\n",
      "Automatic (S5)                        830\n",
      "Automatic (variable gear ratios)      756\n",
      "Automatic 7-spd                       708\n",
      "Automatic (AM-S7)                     345\n",
      "Automatic 8-spd                       337\n",
      "Automatic (S7)                        303\n",
      "Automatic (S4)                        233\n",
      "Automatic (AM7)                       211\n",
      "Automatic 9-spd                       195\n",
      "Automatic (AV-S6)                     186\n",
      "Automatic (A1)                        160\n",
      "Automatic (AM6)                       136\n",
      "Automatic (AM-S6)                     113\n",
      "Automatic (AV-S7)                     112\n",
      "Manual 7-spd                           97\n",
      "Manual 3-spd                           77\n",
      "Automatic (S9)                         60\n",
      "Automatic (S10)                        54\n",
      "Automatic (AV-S8)                      39\n",
      "Automatic (AM-S8)                      38\n",
      "Manual 4-spd Doubled                   17\n",
      "Automatic (AM5)                        14\n",
      "Automatic 10-spd                        8\n",
      "Automatic (AM8)                         6\n",
      "Automatic (AV-S10)                      3\n",
      "Automatic (AM-S9)                       2\n",
      "Automatic (L3)                          2\n",
      "Automatic (L4)                          2\n",
      "Name: trany, dtype: int64\n"
     ]
    }
   ],
   "source": [
    "print(\"The top transmission types in use are as follows:\\n{0}\".format(pd.value_counts(vehicles[\"trany\"])))"
   ]
  },
  {
   "cell_type": "code",
   "execution_count": 14,
   "metadata": {},
   "outputs": [
    {
     "data": {
      "text/plain": [
       "<matplotlib.axes._subplots.AxesSubplot at 0xf0d0ba8>"
      ]
     },
     "execution_count": 14,
     "metadata": {},
     "output_type": "execute_result"
    },
    {
     "data": {
      "image/png": "[encoded data removed]",
      "text/plain": [
       "<Figure size 432x288 with 1 Axes>"
      ]
     },
     "metadata": {},
     "output_type": "display_data"
    }
   ],
   "source": [
    "(pd.value_counts(vehicles[\"trany\"].sort_values(ascending = False))).plot(kind = \"barh\")"
   ]
  },
  {
   "cell_type": "code",
   "execution_count": 15,
   "metadata": {},
   "outputs": [
    {
     "name": "stdout",
     "output_type": "stream",
     "text": [
      "There are two broad types of transmissions, Automatic(A) and Manual(M): \n",
      "A    27079\n",
      "M    12665\n",
      "Name: trany, dtype: int64\n"
     ]
    }
   ],
   "source": [
    "print(\"There are two broad types of transmissions, Automatic(A) and Manual(M): \\n{0}\".format(pd.value_counts(vehicles[\"trany\"].str[0])))"
   ]
  },
  {
   "cell_type": "code",
   "execution_count": 16,
   "metadata": {},
   "outputs": [
    {
     "data": {
      "text/plain": [
       "<matplotlib.axes._subplots.AxesSubplot at 0xf2124e0>"
      ]
     },
     "execution_count": 16,
     "metadata": {},
     "output_type": "execute_result"
    },
    {
     "data": {
      "image/png": "[encoded data removed]",
      "text/plain": [
       "<Figure size 432x288 with 1 Axes>"
      ]
     },
     "metadata": {},
     "output_type": "display_data"
    }
   ],
   "source": [
    "(pd.value_counts(vehicles[\"trany\"].str[0])).plot(kind = \"barh\")"
   ]
  },
  {
   "cell_type": "code",
   "execution_count": 19,
   "metadata": {},
   "outputs": [
    {
     "name": "stdout",
     "output_type": "stream",
     "text": [
      "       barrels08  barrelsA08  charge120  charge240  city08  city08U  cityA08  \\\n",
      "0      15.695714         0.0        0.0        0.0      19   0.0000        0   \n",
      "1      29.964545         0.0        0.0        0.0       9   0.0000        0   \n",
      "2      12.207778         0.0        0.0        0.0      23   0.0000        0   \n",
      "3      29.964545         0.0        0.0        0.0      10   0.0000        0   \n",
      "4      17.347895         0.0        0.0        0.0      17   0.0000        0   \n",
      "5      14.982273         0.0        0.0        0.0      21   0.0000        0   \n",
      "6      13.184400         0.0        0.0        0.0      22   0.0000        0   \n",
      "7      13.733750         0.0        0.0        0.0      23   0.0000        0   \n",
      "8      12.677308         0.0        0.0        0.0      23   0.0000        0   \n",
      "14     25.354615         0.0        0.0        0.0      12   0.0000        0   \n",
      "688    18.311667         0.0        0.0        0.0      16   0.0000        0   \n",
      "689    17.347895         0.0        0.0        0.0      17   0.0000        0   \n",
      "690    14.982273         0.0        0.0        0.0      19   0.0000        0   \n",
      "692    18.311667         0.0        0.0        0.0      15   0.0000        0   \n",
      "693    18.311667         0.0        0.0        0.0      15   0.0000        0   \n",
      "1758   18.311667         0.0        0.0        0.0      16   0.0000        0   \n",
      "1759   18.311667         0.0        0.0        0.0      16   0.0000        0   \n",
      "1760   18.311667         0.0        0.0        0.0      15   0.0000        0   \n",
      "1761   18.311667         0.0        0.0        0.0      15   0.0000        0   \n",
      "1762   18.311667         0.0        0.0        0.0      15   0.0000        0   \n",
      "2788   18.311667         0.0        0.0        0.0      16   0.0000        0   \n",
      "2789   18.311667         0.0        0.0        0.0      16   0.0000        0   \n",
      "2790   14.330870         0.0        0.0        0.0      20   0.0000        0   \n",
      "2792   14.330870         0.0        0.0        0.0      20   0.0000        0   \n",
      "2793   18.311667         0.0        0.0        0.0      15   0.0000        0   \n",
      "3620   14.330870         0.0        0.0        0.0      20   0.0000        0   \n",
      "3621   14.330870         0.0        0.0        0.0      20   0.0000        0   \n",
      "3622   29.964545         0.0        0.0        0.0       9   0.0000        0   \n",
      "3624   12.207778         0.0        0.0        0.0      24   0.0000        0   \n",
      "3625   12.207778         0.0        0.0        0.0      24   0.0000        0   \n",
      "...          ...         ...        ...        ...     ...      ...      ...   \n",
      "25712  12.207778         0.0        0.0        0.0      25  24.5074        0   \n",
      "25713  11.365862         0.0        0.0        0.0      26  25.9637        0   \n",
      "25714  11.771786         0.0        0.0        0.0      26  26.2719        0   \n",
      "27072  17.347895         0.0        0.0        0.0      16  16.4640        0   \n",
      "27073  14.330870         0.0        0.0        0.0      20  20.2399        0   \n",
      "27074  10.987000         0.0        0.0        0.0      26  25.9355        0   \n",
      "27075  10.300313         0.0        0.0        0.0      28  27.7711        0   \n",
      "27076  11.365862         0.0        0.0        0.0      25  24.8308        0   \n",
      "28542  10.987000         0.0        0.0        0.0      26  26.1507        0   \n",
      "28543  10.300313         0.0        0.0        0.0      28  27.5618        0   \n",
      "28544  11.365862         0.0        0.0        0.0      25  24.9709        0   \n",
      "28545  15.695714         0.0        0.0        0.0      18  17.8210        0   \n",
      "28546  14.330870         0.0        0.0        0.0      20  20.0796        0   \n",
      "29890  14.330870         0.0        0.0        0.0      20  20.2399        0   \n",
      "29891  14.330870         0.0        0.0        0.0      20  20.0948        0   \n",
      "29892  14.982273         0.0        0.0        0.0      19  19.4394        0   \n",
      "29894  15.695714         0.0        0.0        0.0      19  18.8536        0   \n",
      "29895  15.695714         0.0        0.0        0.0      19  18.7066        0   \n",
      "31367  11.771786         0.0        0.0        0.0      26  25.6879        0   \n",
      "31368  12.677308         0.0        0.0        0.0      24  23.9827        0   \n",
      "31388  12.207778         0.0        0.0        0.0      24  23.5383        0   \n",
      "31389  12.207778         0.0        0.0        0.0      24  23.6875        0   \n",
      "31390  12.207778         0.0        0.0        0.0      24  23.5383        0   \n",
      "32821  14.330870         0.0        0.0        0.0      20  19.7311        0   \n",
      "32822  14.982273         0.0        0.0        0.0      19  19.2200        0   \n",
      "32823  15.695714         0.0        0.0        0.0      18  18.4122        0   \n",
      "32824  15.695714         0.0        0.0        0.0      18  18.2644        0   \n",
      "32833  17.347895         0.0        0.0        0.0      16  16.1244        0   \n",
      "34467  15.695714         0.0        0.0        0.0      19   0.0000        0   \n",
      "34469  14.982273         0.0        0.0        0.0      20   0.0000        0   \n",
      "\n",
      "       cityA08U  cityCD  cityE    ...     mfrCode  c240Dscr  charge240b  \\\n",
      "0           0.0     0.0    0.0    ...         NaN       NaN         0.0   \n",
      "1           0.0     0.0    0.0    ...         NaN       NaN         0.0   \n",
      "2           0.0     0.0    0.0    ...         NaN       NaN         0.0   \n",
      "3           0.0     0.0    0.0    ...         NaN       NaN         0.0   \n",
      "4           0.0     0.0    0.0    ...         NaN       NaN         0.0   \n",
      "5           0.0     0.0    0.0    ...         NaN       NaN         0.0   \n",
      "6           0.0     0.0    0.0    ...         NaN       NaN         0.0   \n",
      "7           0.0     0.0    0.0    ...         NaN       NaN         0.0   \n",
      "8           0.0     0.0    0.0    ...         NaN       NaN         0.0   \n",
      "14          0.0     0.0    0.0    ...         NaN       NaN         0.0   \n",
      "688         0.0     0.0    0.0    ...         NaN       NaN         0.0   \n",
      "689         0.0     0.0    0.0    ...         NaN       NaN         0.0   \n",
      "690         0.0     0.0    0.0    ...         NaN       NaN         0.0   \n",
      "692         0.0     0.0    0.0    ...         NaN       NaN         0.0   \n",
      "693         0.0     0.0    0.0    ...         NaN       NaN         0.0   \n",
      "1758        0.0     0.0    0.0    ...         NaN       NaN         0.0   \n",
      "1759        0.0     0.0    0.0    ...         NaN       NaN         0.0   \n",
      "1760        0.0     0.0    0.0    ...         NaN       NaN         0.0   \n",
      "1761        0.0     0.0    0.0    ...         NaN       NaN         0.0   \n",
      "1762        0.0     0.0    0.0    ...         NaN       NaN         0.0   \n",
      "2788        0.0     0.0    0.0    ...         NaN       NaN         0.0   \n",
      "2789        0.0     0.0    0.0    ...         NaN       NaN         0.0   \n",
      "2790        0.0     0.0    0.0    ...         NaN       NaN         0.0   \n",
      "2792        0.0     0.0    0.0    ...         NaN       NaN         0.0   \n",
      "2793        0.0     0.0    0.0    ...         NaN       NaN         0.0   \n",
      "3620        0.0     0.0    0.0    ...         NaN       NaN         0.0   \n",
      "3621        0.0     0.0    0.0    ...         NaN       NaN         0.0   \n",
      "3622        0.0     0.0    0.0    ...         NaN       NaN         0.0   \n",
      "3624        0.0     0.0    0.0    ...         NaN       NaN         0.0   \n",
      "3625        0.0     0.0    0.0    ...         NaN       NaN         0.0   \n",
      "...         ...     ...    ...    ...         ...       ...         ...   \n",
      "25712       0.0     0.0    0.0    ...         TKX       NaN         0.0   \n",
      "25713       0.0     0.0    0.0    ...         TKX       NaN         0.0   \n",
      "25714       0.0     0.0    0.0    ...         TKX       NaN         0.0   \n",
      "27072       0.0     0.0    0.0    ...         NSX       NaN         0.0   \n",
      "27073       0.0     0.0    0.0    ...         VVX       NaN         0.0   \n",
      "27074       0.0     0.0    0.0    ...         TKX       NaN         0.0   \n",
      "27075       0.0     0.0    0.0    ...         TKX       NaN         0.0   \n",
      "27076       0.0     0.0    0.0    ...         TKX       NaN         0.0   \n",
      "28542       0.0     0.0    0.0    ...         TKX       NaN         0.0   \n",
      "28543       0.0     0.0    0.0    ...         TKX       NaN         0.0   \n",
      "28544       0.0     0.0    0.0    ...         TKX       NaN         0.0   \n",
      "28545       0.0     0.0    0.0    ...         KMX       NaN         0.0   \n",
      "28546       0.0     0.0    0.0    ...         KMX       NaN         0.0   \n",
      "29890       0.0     0.0    0.0    ...         HYX       NaN         0.0   \n",
      "29891       0.0     0.0    0.0    ...         HYX       NaN         0.0   \n",
      "29892       0.0     0.0    0.0    ...         HYX       NaN         0.0   \n",
      "29894       0.0     0.0    0.0    ...         HYX       NaN         0.0   \n",
      "29895       0.0     0.0    0.0    ...         VGA       NaN         0.0   \n",
      "31367       0.0     0.0    0.0    ...         GMX       NaN         0.0   \n",
      "31368       0.0     0.0    0.0    ...         GMX       NaN         0.0   \n",
      "31388       0.0     0.0    0.0    ...         VGA       NaN         0.0   \n",
      "31389       0.0     0.0    0.0    ...         VGA       NaN         0.0   \n",
      "31390       0.0     0.0    0.0    ...         VGA       NaN         0.0   \n",
      "32821       0.0     0.0    0.0    ...         CRX       NaN         0.0   \n",
      "32822       0.0     0.0    0.0    ...         CRX       NaN         0.0   \n",
      "32823       0.0     0.0    0.0    ...         CRX       NaN         0.0   \n",
      "32824       0.0     0.0    0.0    ...         CRX       NaN         0.0   \n",
      "32833       0.0     0.0    0.0    ...         GMX       NaN         0.0   \n",
      "34467       0.0     0.0    0.0    ...         NaN       NaN         0.0   \n",
      "34469       0.0     0.0    0.0    ...         NaN       NaN         0.0   \n",
      "\n",
      "       c240bDscr                     createdOn                    modifiedOn  \\\n",
      "0            NaN  Tue Jan 01 00:00:00 EST 2013  Tue Jan 01 00:00:00 EST 2013   \n",
      "1            NaN  Tue Jan 01 00:00:00 EST 2013  Tue Jan 01 00:00:00 EST 2013   \n",
      "2            NaN  Tue Jan 01 00:00:00 EST 2013  Tue Jan 01 00:00:00 EST 2013   \n",
      "3            NaN  Tue Jan 01 00:00:00 EST 2013  Tue Jan 01 00:00:00 EST 2013   \n",
      "4            NaN  Tue Jan 01 00:00:00 EST 2013  Tue Jan 01 00:00:00 EST 2013   \n",
      "5            NaN  Tue Jan 01 00:00:00 EST 2013  Tue Jan 01 00:00:00 EST 2013   \n",
      "6            NaN  Tue Jan 01 00:00:00 EST 2013  Tue Jan 01 00:00:00 EST 2013   \n",
      "7            NaN  Tue Jan 01 00:00:00 EST 2013  Tue Jan 01 00:00:00 EST 2013   \n",
      "8            NaN  Tue Jan 01 00:00:00 EST 2013  Tue Jan 01 00:00:00 EST 2013   \n",
      "14           NaN  Tue Jan 01 00:00:00 EST 2013  Tue Jan 01 00:00:00 EST 2013   \n",
      "688          NaN  Tue Jan 01 00:00:00 EST 2013  Tue Jan 01 00:00:00 EST 2013   \n",
      "689          NaN  Tue Jan 01 00:00:00 EST 2013  Tue Jan 01 00:00:00 EST 2013   \n",
      "690          NaN  Tue Jan 01 00:00:00 EST 2013  Tue Jan 01 00:00:00 EST 2013   \n",
      "692          NaN  Tue Jan 01 00:00:00 EST 2013  Tue Jan 01 00:00:00 EST 2013   \n",
      "693          NaN  Tue Jan 01 00:00:00 EST 2013  Tue Jan 01 00:00:00 EST 2013   \n",
      "1758         NaN  Tue Jan 01 00:00:00 EST 2013  Tue Jan 01 00:00:00 EST 2013   \n",
      "1759         NaN  Tue Jan 01 00:00:00 EST 2013  Tue Jan 01 00:00:00 EST 2013   \n",
      "1760         NaN  Tue Jan 01 00:00:00 EST 2013  Tue Jan 01 00:00:00 EST 2013   \n",
      "1761         NaN  Tue Jan 01 00:00:00 EST 2013  Tue Jan 01 00:00:00 EST 2013   \n",
      "1762         NaN  Tue Jan 01 00:00:00 EST 2013  Tue Jan 01 00:00:00 EST 2013   \n",
      "2788         NaN  Tue Jan 01 00:00:00 EST 2013  Tue Jan 01 00:00:00 EST 2013   \n",
      "2789         NaN  Tue Jan 01 00:00:00 EST 2013  Tue Jan 01 00:00:00 EST 2013   \n",
      "2790         NaN  Tue Jan 01 00:00:00 EST 2013  Tue Jan 01 00:00:00 EST 2013   \n",
      "2792         NaN  Tue Jan 01 00:00:00 EST 2013  Tue Jan 01 00:00:00 EST 2013   \n",
      "2793         NaN  Tue Jan 01 00:00:00 EST 2013  Tue Jan 01 00:00:00 EST 2013   \n",
      "3620         NaN  Tue Jan 01 00:00:00 EST 2013  Tue Jan 01 00:00:00 EST 2013   \n",
      "3621         NaN  Tue Jan 01 00:00:00 EST 2013  Tue Jan 01 00:00:00 EST 2013   \n",
      "3622         NaN  Tue Jan 01 00:00:00 EST 2013  Tue Jan 01 00:00:00 EST 2013   \n",
      "3624         NaN  Tue Jan 01 00:00:00 EST 2013  Tue Jan 01 00:00:00 EST 2013   \n",
      "3625         NaN  Tue Jan 01 00:00:00 EST 2013  Tue Jan 01 00:00:00 EST 2013   \n",
      "...          ...                           ...                           ...   \n",
      "25712        NaN  Tue Jan 01 00:00:00 EST 2013  Mon Sep 26 00:00:00 EDT 2016   \n",
      "25713        NaN  Tue Jan 01 00:00:00 EST 2013  Mon Sep 26 00:00:00 EDT 2016   \n",
      "25714        NaN  Tue Jan 01 00:00:00 EST 2013  Mon Sep 26 00:00:00 EDT 2016   \n",
      "27072        NaN  Mon Jan 06 00:00:00 EST 2014  Wed Apr 05 00:00:00 EDT 2017   \n",
      "27073        NaN  Mon Jan 06 00:00:00 EST 2014  Mon Sep 26 00:00:00 EDT 2016   \n",
      "27074        NaN  Mon Jan 06 00:00:00 EST 2014  Mon Sep 26 00:00:00 EDT 2016   \n",
      "27075        NaN  Mon Jan 06 00:00:00 EST 2014  Mon Sep 26 00:00:00 EDT 2016   \n",
      "27076        NaN  Mon Jan 06 00:00:00 EST 2014  Mon Sep 26 00:00:00 EDT 2016   \n",
      "28542        NaN  Tue Jan 06 00:00:00 EST 2015  Mon Sep 26 00:00:00 EDT 2016   \n",
      "28543        NaN  Tue Jan 06 00:00:00 EST 2015  Mon Sep 26 00:00:00 EDT 2016   \n",
      "28544        NaN  Tue Jan 06 00:00:00 EST 2015  Mon Sep 26 00:00:00 EDT 2016   \n",
      "28545        NaN  Tue Jan 06 00:00:00 EST 2015  Mon Sep 26 00:00:00 EDT 2016   \n",
      "28546        NaN  Tue Jan 06 00:00:00 EST 2015  Mon Sep 26 00:00:00 EDT 2016   \n",
      "29890        NaN  Tue Jan 05 00:00:00 EST 2016  Wed Oct 05 00:00:00 EDT 2016   \n",
      "29891        NaN  Tue Jan 05 00:00:00 EST 2016  Wed Oct 05 00:00:00 EDT 2016   \n",
      "29892        NaN  Tue Jan 05 00:00:00 EST 2016  Wed Oct 05 00:00:00 EDT 2016   \n",
      "29894        NaN  Tue Jan 05 00:00:00 EST 2016  Wed Oct 05 00:00:00 EDT 2016   \n",
      "29895        NaN  Tue Jan 05 00:00:00 EST 2016  Wed May 04 00:00:00 EDT 2016   \n",
      "31367        NaN  Fri Feb 10 00:00:00 EST 2017  Mon Oct 23 00:00:00 EDT 2017   \n",
      "31368        NaN  Fri Feb 10 00:00:00 EST 2017  Mon Oct 23 00:00:00 EDT 2017   \n",
      "31388        NaN  Fri Mar 10 00:00:00 EST 2017  Mon Feb 19 00:00:00 EST 2018   \n",
      "31389        NaN  Fri Mar 10 00:00:00 EST 2017  Wed Jan 24 00:00:00 EST 2018   \n",
      "31390        NaN  Fri Mar 10 00:00:00 EST 2017  Mon Jun 12 00:00:00 EDT 2017   \n",
      "32821        NaN  Wed Jan 24 00:00:00 EST 2018  Mon Mar 26 00:00:00 EDT 2018   \n",
      "32822        NaN  Wed Jan 24 00:00:00 EST 2018  Mon Mar 26 00:00:00 EDT 2018   \n",
      "32823        NaN  Wed Jan 24 00:00:00 EST 2018  Mon Mar 26 00:00:00 EDT 2018   \n",
      "32824        NaN  Wed Jan 24 00:00:00 EST 2018  Mon Mar 26 00:00:00 EDT 2018   \n",
      "32833        NaN  Tue Feb 06 00:00:00 EST 2018  Wed Apr 25 00:00:00 EDT 2018   \n",
      "34467        NaN  Tue Jan 01 00:00:00 EST 2013  Tue Jan 01 00:00:00 EST 2013   \n",
      "34469        NaN  Tue Jan 01 00:00:00 EST 2013  Tue Jan 01 00:00:00 EST 2013   \n",
      "\n",
      "       startStop  phevCity  phevHwy  phevComb  \n",
      "0            NaN         0        0         0  \n",
      "1            NaN         0        0         0  \n",
      "2            NaN         0        0         0  \n",
      "3            NaN         0        0         0  \n",
      "4            NaN         0        0         0  \n",
      "5            NaN         0        0         0  \n",
      "6            NaN         0        0         0  \n",
      "7            NaN         0        0         0  \n",
      "8            NaN         0        0         0  \n",
      "14           NaN         0        0         0  \n",
      "688          NaN         0        0         0  \n",
      "689          NaN         0        0         0  \n",
      "690          NaN         0        0         0  \n",
      "692          NaN         0        0         0  \n",
      "693          NaN         0        0         0  \n",
      "1758         NaN         0        0         0  \n",
      "1759         NaN         0        0         0  \n",
      "1760         NaN         0        0         0  \n",
      "1761         NaN         0        0         0  \n",
      "1762         NaN         0        0         0  \n",
      "2788         NaN         0        0         0  \n",
      "2789         NaN         0        0         0  \n",
      "2790         NaN         0        0         0  \n",
      "2792         NaN         0        0         0  \n",
      "2793         NaN         0        0         0  \n",
      "3620         NaN         0        0         0  \n",
      "3621         NaN         0        0         0  \n",
      "3622         NaN         0        0         0  \n",
      "3624         NaN         0        0         0  \n",
      "3625         NaN         0        0         0  \n",
      "...          ...       ...      ...       ...  \n",
      "25712          N         0        0         0  \n",
      "25713          N         0        0         0  \n",
      "25714          N         0        0         0  \n",
      "27072          N         0        0         0  \n",
      "27073          N         0        0         0  \n",
      "27074          N         0        0         0  \n",
      "27075          N         0        0         0  \n",
      "27076          N         0        0         0  \n",
      "28542          N         0        0         0  \n",
      "28543          N         0        0         0  \n",
      "28544          N         0        0         0  \n",
      "28545          N         0        0         0  \n",
      "28546          N         0        0         0  \n",
      "29890          N         0        0         0  \n",
      "29891          N         0        0         0  \n",
      "29892          N         0        0         0  \n",
      "29894          N         0        0         0  \n",
      "29895          N         0        0         0  \n",
      "31367          Y         0        0         0  \n",
      "31368          Y         0        0         0  \n",
      "31388          Y         0        0         0  \n",
      "31389          N         0        0         0  \n",
      "31390          Y         0        0         0  \n",
      "32821          Y         0        0         0  \n",
      "32822          Y         0        0         0  \n",
      "32823          Y         0        0         0  \n",
      "32824          Y         0        0         0  \n",
      "32833          N         0        0         0  \n",
      "34467        NaN         0        0         0  \n",
      "34469        NaN         0        0         0  \n",
      "\n",
      "[180 rows x 83 columns]\n"
     ]
    }
   ],
   "source": [
    "grouped_by_year = vehicles.groupby(\"year\")\n"
   ]
  },
  {
   "cell_type": "code",
   "execution_count": 21,
   "metadata": {},
   "outputs": [],
   "source": [
    "averaged = grouped_by_year[\"comb08\", \"highway08\", \"city08\"].agg([np.mean])"
   ]
  },
  {
   "cell_type": "code",
   "execution_count": 22,
   "metadata": {},
   "outputs": [],
   "source": [
    "averaged.columns = [\"comb08_mean\", \"highway08_mean\", \"city08_mean\"]"
   ]
  },
  {
   "cell_type": "code",
   "execution_count": 24,
   "metadata": {},
   "outputs": [
    {
     "data": {
      "text/html": [
       "<div>\n",
       "<style scoped>\n",
       "    .dataframe tbody tr th:only-of-type {\n",
       "        vertical-align: middle;\n",
       "    }\n",
       "\n",
       "    .dataframe tbody tr th {\n",
       "        vertical-align: top;\n",
       "    }\n",
       "\n",
       "    .dataframe thead th {\n",
       "        text-align: right;\n",
       "    }\n",
       "</style>\n",
       "<table border=\"1\" class=\"dataframe\">\n",
       "  <thead>\n",
       "    <tr style=\"text-align: right;\">\n",
       "      <th></th>\n",
       "      <th>comb08_mean</th>\n",
       "      <th>highway08_mean</th>\n",
       "      <th>city08_mean</th>\n",
       "    </tr>\n",
       "    <tr>\n",
       "      <th>year</th>\n",
       "      <th></th>\n",
       "      <th></th>\n",
       "      <th></th>\n",
       "    </tr>\n",
       "  </thead>\n",
       "  <tbody>\n",
       "    <tr>\n",
       "      <th>1984</th>\n",
       "      <td>19.881874</td>\n",
       "      <td>23.075356</td>\n",
       "      <td>17.982688</td>\n",
       "    </tr>\n",
       "    <tr>\n",
       "      <th>1985</th>\n",
       "      <td>19.808348</td>\n",
       "      <td>23.042328</td>\n",
       "      <td>17.878307</td>\n",
       "    </tr>\n",
       "    <tr>\n",
       "      <th>1986</th>\n",
       "      <td>19.550413</td>\n",
       "      <td>22.699174</td>\n",
       "      <td>17.665289</td>\n",
       "    </tr>\n",
       "    <tr>\n",
       "      <th>1987</th>\n",
       "      <td>19.228549</td>\n",
       "      <td>22.445068</td>\n",
       "      <td>17.310345</td>\n",
       "    </tr>\n",
       "    <tr>\n",
       "      <th>1988</th>\n",
       "      <td>19.328319</td>\n",
       "      <td>22.702655</td>\n",
       "      <td>17.333628</td>\n",
       "    </tr>\n",
       "  </tbody>\n",
       "</table>\n",
       "</div>"
      ],
      "text/plain": [
       "      comb08_mean  highway08_mean  city08_mean\n",
       "year                                          \n",
       "1984    19.881874       23.075356    17.982688\n",
       "1985    19.808348       23.042328    17.878307\n",
       "1986    19.550413       22.699174    17.665289\n",
       "1987    19.228549       22.445068    17.310345\n",
       "1988    19.328319       22.702655    17.333628"
      ]
     },
     "execution_count": 24,
     "metadata": {},
     "output_type": "execute_result"
    }
   ],
   "source": [
    "averaged.head()"
   ]
  },
  {
   "cell_type": "code",
   "execution_count": 25,
   "metadata": {},
   "outputs": [],
   "source": [
    "averaged[\"year\"] = averaged.index"
   ]
  },
  {
   "cell_type": "code",
   "execution_count": 36,
   "metadata": {},
   "outputs": [
    {
     "data": {
      "image/png": "[encoded data removed]",
      "text/plain": [
       "<Figure size 432x288 with 1 Axes>"
      ]
     },
     "metadata": {},
     "output_type": "display_data"
    }
   ],
   "source": [
    "plt.figure()\n",
    "\n",
    "x = averaged[\"year\"]\n",
    "averaged[\"comb08_mean\"]\n",
    "\n",
    "plt.plot(x, averaged[\"comb08_mean\"], \"r-\", label = \"comb08_mean\")\n",
    "plt.plot(x, averaged[\"highway08_mean\"], \"b-\", label = \"highway08_mean\")\n",
    "plt.plot(x, averaged[\"city08_mean\"], \"k-\", label = \"city08_mean\")\n",
    "plt.xlabel(\"years\")\n",
    "plt.ylabel(\"averages\")\n",
    "plt.legend()\n",
    "plt.show()"
   ]
  },
  {
   "cell_type": "code",
   "execution_count": null,
   "metadata": {},
   "outputs": [],
   "source": []
  }
 ],
 "metadata": {
  "kernelspec": {
   "display_name": "Python 3",
   "language": "python",
   "name": "python3"
  },
  "language_info": {
   "codemirror_mode": {
    "name": "ipython",
    "version": 3
   },
   "file_extension": ".py",
   "mimetype": "text/x-python",
   "name": "python",
   "nbconvert_exporter": "python",
   "pygments_lexer": "ipython3",
   "version": "3.6.5"
  }
 },
 "nbformat": 4,
 "nbformat_minor": 2
}
